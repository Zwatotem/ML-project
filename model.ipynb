{
 "cells": [
  {
   "cell_type": "code",
   "execution_count": 1,
   "metadata": {},
   "outputs": [],
   "source": [
    "import matplotlib.pyplot as plt\n",
    "import os\n",
    "import sys\n",
    "import pandas as pd\n",
    "import numpy as np\n",
    "\n",
    "from sklearn.preprocessing import MinMaxScaler\n",
    "\n",
    "from tensorflow.keras.models import Sequential\n",
    "from tensorflow.keras.layers import Dense\n",
    "from tensorflow.keras.callbacks import LearningRateScheduler\n",
    "from tensorflow.keras.callbacks import ModelCheckpoint\n",
    "from tensorflow.keras.callbacks import EarlyStopping\n",
    "from tensorflow.keras.layers import Dropout\n",
    "from tensorflow.keras.layers import BatchNormalization\n",
    "from tensorflow.keras.layers import Activation\n",
    "from tensorflow.keras.layers import Flatten\n",
    "from tensorflow.python.keras.layers.convolutional import Conv2D, MaxPooling2D, AveragePooling2D\n",
    "from tensorflow.keras.layers import Dense, Dropout, Embedding, SimpleRNN, LSTM, Bidirectional\n",
    "from tensorflow.keras.callbacks import History"
   ]
  },
  {
   "cell_type": "code",
   "execution_count": 3,
   "metadata": {},
   "outputs": [
    {
     "data": {
      "text/html": [
       "<div>\n",
       "<style scoped>\n",
       "    .dataframe tbody tr th:only-of-type {\n",
       "        vertical-align: middle;\n",
       "    }\n",
       "\n",
       "    .dataframe tbody tr th {\n",
       "        vertical-align: top;\n",
       "    }\n",
       "\n",
       "    .dataframe thead th {\n",
       "        text-align: right;\n",
       "    }\n",
       "</style>\n",
       "<table border=\"1\" class=\"dataframe\">\n",
       "  <thead>\n",
       "    <tr style=\"text-align: right;\">\n",
       "      <th></th>\n",
       "      <th>Unnamed: 0</th>\n",
       "      <th>id_odsp</th>\n",
       "      <th>sort_order</th>\n",
       "      <th>time</th>\n",
       "      <th>event_type</th>\n",
       "      <th>event_type2</th>\n",
       "      <th>side</th>\n",
       "      <th>event_team</th>\n",
       "      <th>opponent</th>\n",
       "      <th>player</th>\n",
       "      <th>...</th>\n",
       "      <th>assist_method</th>\n",
       "      <th>fast_break</th>\n",
       "      <th>open_play</th>\n",
       "      <th>set_piece</th>\n",
       "      <th>corner</th>\n",
       "      <th>free_kick</th>\n",
       "      <th>is_team1_goal</th>\n",
       "      <th>is_team2_goal</th>\n",
       "      <th>team1_cumgoals</th>\n",
       "      <th>team2_cumgoals</th>\n",
       "    </tr>\n",
       "  </thead>\n",
       "  <tbody>\n",
       "    <tr>\n",
       "      <th>0</th>\n",
       "      <td>580478</td>\n",
       "      <td>004f4ING/</td>\n",
       "      <td>1</td>\n",
       "      <td>1</td>\n",
       "      <td>8</td>\n",
       "      <td>0.0</td>\n",
       "      <td>2</td>\n",
       "      <td>83</td>\n",
       "      <td>88</td>\n",
       "      <td>24.0</td>\n",
       "      <td>...</td>\n",
       "      <td>0</td>\n",
       "      <td>0</td>\n",
       "      <td>0</td>\n",
       "      <td>0</td>\n",
       "      <td>0</td>\n",
       "      <td>0</td>\n",
       "      <td>False</td>\n",
       "      <td>False</td>\n",
       "      <td>0</td>\n",
       "      <td>0</td>\n",
       "    </tr>\n",
       "    <tr>\n",
       "      <th>1</th>\n",
       "      <td>580479</td>\n",
       "      <td>004f4ING/</td>\n",
       "      <td>2</td>\n",
       "      <td>1</td>\n",
       "      <td>3</td>\n",
       "      <td>0.0</td>\n",
       "      <td>1</td>\n",
       "      <td>88</td>\n",
       "      <td>83</td>\n",
       "      <td>2232.0</td>\n",
       "      <td>...</td>\n",
       "      <td>0</td>\n",
       "      <td>0</td>\n",
       "      <td>0</td>\n",
       "      <td>0</td>\n",
       "      <td>0</td>\n",
       "      <td>0</td>\n",
       "      <td>False</td>\n",
       "      <td>False</td>\n",
       "      <td>0</td>\n",
       "      <td>0</td>\n",
       "    </tr>\n",
       "    <tr>\n",
       "      <th>2</th>\n",
       "      <td>580480</td>\n",
       "      <td>004f4ING/</td>\n",
       "      <td>3</td>\n",
       "      <td>5</td>\n",
       "      <td>8</td>\n",
       "      <td>0.0</td>\n",
       "      <td>1</td>\n",
       "      <td>88</td>\n",
       "      <td>83</td>\n",
       "      <td>590.0</td>\n",
       "      <td>...</td>\n",
       "      <td>0</td>\n",
       "      <td>0</td>\n",
       "      <td>0</td>\n",
       "      <td>0</td>\n",
       "      <td>0</td>\n",
       "      <td>0</td>\n",
       "      <td>False</td>\n",
       "      <td>False</td>\n",
       "      <td>0</td>\n",
       "      <td>0</td>\n",
       "    </tr>\n",
       "    <tr>\n",
       "      <th>3</th>\n",
       "      <td>580481</td>\n",
       "      <td>004f4ING/</td>\n",
       "      <td>4</td>\n",
       "      <td>5</td>\n",
       "      <td>3</td>\n",
       "      <td>0.0</td>\n",
       "      <td>2</td>\n",
       "      <td>83</td>\n",
       "      <td>88</td>\n",
       "      <td>1199.0</td>\n",
       "      <td>...</td>\n",
       "      <td>0</td>\n",
       "      <td>0</td>\n",
       "      <td>0</td>\n",
       "      <td>0</td>\n",
       "      <td>0</td>\n",
       "      <td>0</td>\n",
       "      <td>False</td>\n",
       "      <td>False</td>\n",
       "      <td>0</td>\n",
       "      <td>0</td>\n",
       "    </tr>\n",
       "    <tr>\n",
       "      <th>4</th>\n",
       "      <td>580482</td>\n",
       "      <td>004f4ING/</td>\n",
       "      <td>5</td>\n",
       "      <td>6</td>\n",
       "      <td>1</td>\n",
       "      <td>12.0</td>\n",
       "      <td>1</td>\n",
       "      <td>88</td>\n",
       "      <td>83</td>\n",
       "      <td>988.0</td>\n",
       "      <td>...</td>\n",
       "      <td>2</td>\n",
       "      <td>0</td>\n",
       "      <td>1</td>\n",
       "      <td>0</td>\n",
       "      <td>0</td>\n",
       "      <td>0</td>\n",
       "      <td>False</td>\n",
       "      <td>False</td>\n",
       "      <td>0</td>\n",
       "      <td>0</td>\n",
       "    </tr>\n",
       "  </tbody>\n",
       "</table>\n",
       "<p>5 rows × 27 columns</p>\n",
       "</div>"
      ],
      "text/plain": [
       "   Unnamed: 0    id_odsp  sort_order  time  event_type  event_type2  side  \\\n",
       "0      580478  004f4ING/           1     1           8          0.0     2   \n",
       "1      580479  004f4ING/           2     1           3          0.0     1   \n",
       "2      580480  004f4ING/           3     5           8          0.0     1   \n",
       "3      580481  004f4ING/           4     5           3          0.0     2   \n",
       "4      580482  004f4ING/           5     6           1         12.0     1   \n",
       "\n",
       "   event_team  opponent  player  ...  assist_method  fast_break  open_play  \\\n",
       "0          83        88    24.0  ...              0           0          0   \n",
       "1          88        83  2232.0  ...              0           0          0   \n",
       "2          88        83   590.0  ...              0           0          0   \n",
       "3          83        88  1199.0  ...              0           0          0   \n",
       "4          88        83   988.0  ...              2           0          1   \n",
       "\n",
       "   set_piece  corner  free_kick  is_team1_goal  is_team2_goal  team1_cumgoals  \\\n",
       "0          0       0          0          False          False               0   \n",
       "1          0       0          0          False          False               0   \n",
       "2          0       0          0          False          False               0   \n",
       "3          0       0          0          False          False               0   \n",
       "4          0       0          0          False          False               0   \n",
       "\n",
       "   team2_cumgoals  \n",
       "0               0  \n",
       "1               0  \n",
       "2               0  \n",
       "3               0  \n",
       "4               0  \n",
       "\n",
       "[5 rows x 27 columns]"
      ]
     },
     "execution_count": 3,
     "metadata": {},
     "output_type": "execute_result"
    }
   ],
   "source": [
    "data = pd.read_csv('events_filtered.csv')\n",
    "data.head()"
   ]
  },
  {
   "cell_type": "code",
   "execution_count": null,
   "metadata": {},
   "outputs": [
    {
     "data": {
      "text/plain": [
       "Index(['Unnamed: 0', 'id_odsp', 'sort_order', 'time', 'event_type',\n",
       "       'event_type2', 'side', 'event_team', 'opponent', 'player', 'player2',\n",
       "       'player_in', 'player_out', 'shot_place', 'is_goal', 'location',\n",
       "       'bodypart', 'assist_method', 'fast_break', 'open_play', 'set_piece',\n",
       "       'corner', 'free_kick', 'is_team1_goal', 'is_team2_goal',\n",
       "       'team1_cumgoals', 'team2_cumgoals'],\n",
       "      dtype='object')"
      ]
     },
     "execution_count": 7,
     "metadata": {},
     "output_type": "execute_result"
    }
   ],
   "source": [
    "data.columns"
   ]
  },
  {
   "cell_type": "code",
   "execution_count": null,
   "metadata": {},
   "outputs": [],
   "source": [
    "X_train = data.loc[data.id_odsp < 'p'][['sort_order', 'time', 'event_type', 'event_type2', 'side',\n",
    "       'event_team', 'opponent', 'player', 'player2', 'player_in',\n",
    "       'player_out', 'shot_place', 'location', 'bodypart',\n",
    "       'assist_method', 'fast_break', 'open_play', 'set_piece', 'corner',\n",
    "       'free_kick']]\n",
    "y_train = data.loc[data.id_odsp < 'p'][['team1_cumgoals', 'team2_cumgoals']]\n",
    "X_valid = data.loc[(data.id_odsp >= 'p').__and__(data.id_odsp < 'u')][['sort_order', 'time', 'event_type', 'event_type2', 'side',\n",
    "       'event_team', 'opponent', 'player', 'player2', 'player_in',\n",
    "       'player_out', 'shot_place', 'location', 'bodypart',\n",
    "       'assist_method', 'fast_break', 'open_play', 'set_piece', 'corner',\n",
    "       'free_kick']]\n",
    "y_valid = data.loc[(data.id_odsp >= 'p').__and__(data.id_odsp < 'u')][['team1_cumgoals', 'team2_cumgoals']]\n",
    "X_test = data.loc[data.id_odsp >= 'u'][['sort_order', 'time', 'event_type', 'event_type2', 'side',\n",
    "       'event_team', 'opponent', 'player', 'player2', 'player_in',\n",
    "       'player_out', 'shot_place', 'location', 'bodypart',\n",
    "       'assist_method', 'fast_break', 'open_play', 'set_piece', 'corner',\n",
    "       'free_kick']]\n",
    "y_test = data.loc[data.id_odsp >= 'u'][['team1_cumgoals', 'team2_cumgoals']]"
   ]
  },
  {
   "cell_type": "code",
   "execution_count": null,
   "metadata": {},
   "outputs": [
    {
     "name": "stdout",
     "output_type": "stream",
     "text": [
      "Epoch 1/100\n",
      "50899/50899 [==============================] - 125s 2ms/step - loss: 7.1421 - accuracy: 0.7211 - val_loss: 0.8374 - val_accuracy: 0.7599\n",
      "Epoch 2/100\n",
      "50899/50899 [==============================] - 133s 3ms/step - loss: 0.8443 - accuracy: 0.7502 - val_loss: 0.8422 - val_accuracy: 0.7599\n",
      "Epoch 3/100\n",
      "50899/50899 [==============================] - 106s 2ms/step - loss: 0.8444 - accuracy: 0.7504 - val_loss: 0.8368 - val_accuracy: 0.7599\n",
      "Epoch 4/100\n",
      "50899/50899 [==============================] - 105s 2ms/step - loss: 0.8442 - accuracy: 0.7491 - val_loss: 0.8378 - val_accuracy: 0.7599\n",
      "Epoch 5/100\n",
      "50899/50899 [==============================] - 91s 2ms/step - loss: 0.8443 - accuracy: 0.7498 - val_loss: 0.8388 - val_accuracy: 0.7599\n",
      "Epoch 6/100\n",
      "50899/50899 [==============================] - 90s 2ms/step - loss: 0.8443 - accuracy: 0.7488 - val_loss: 0.8406 - val_accuracy: 0.7599\n",
      "Epoch 7/100\n",
      "50899/50899 [==============================] - 99s 2ms/step - loss: 0.8444 - accuracy: 0.7506 - val_loss: 0.8369 - val_accuracy: 0.7599\n",
      "Epoch 8/100\n",
      "50899/50899 [==============================] - 91s 2ms/step - loss: 0.8443 - accuracy: 0.7495 - val_loss: 0.8366 - val_accuracy: 0.7599\n",
      "Epoch 9/100\n",
      "50899/50899 [==============================] - 106s 2ms/step - loss: 0.8443 - accuracy: 0.7502 - val_loss: 0.8381 - val_accuracy: 0.7599\n",
      "Epoch 10/100\n",
      "50899/50899 [==============================] - 100s 2ms/step - loss: 0.8443 - accuracy: 0.7506 - val_loss: 0.8395 - val_accuracy: 0.7599\n",
      "Epoch 11/100\n",
      "50899/50899 [==============================] - 98s 2ms/step - loss: 0.8443 - accuracy: 0.7499 - val_loss: 0.8369 - val_accuracy: 0.7599\n",
      "Epoch 12/100\n",
      "50899/50899 [==============================] - 86s 2ms/step - loss: 0.8442 - accuracy: 0.7498 - val_loss: 0.8368 - val_accuracy: 0.7599\n",
      "Epoch 13/100\n",
      "50899/50899 [==============================] - 99s 2ms/step - loss: 0.8442 - accuracy: 0.7489 - val_loss: 0.8449 - val_accuracy: 0.7599\n",
      "Epoch 14/100\n",
      "50899/50899 [==============================] - 90s 2ms/step - loss: 0.8443 - accuracy: 0.7511 - val_loss: 0.8365 - val_accuracy: 0.7599\n",
      "Epoch 15/100\n",
      "50899/50899 [==============================] - 117s 2ms/step - loss: 0.8450 - accuracy: 0.7492 - val_loss: 0.8416 - val_accuracy: 0.7599\n",
      "Epoch 16/100\n",
      "50899/50899 [==============================] - 113s 2ms/step - loss: 0.8443 - accuracy: 0.7488 - val_loss: 0.8386 - val_accuracy: 0.7599\n",
      "Epoch 17/100\n",
      "50899/50899 [==============================] - 118s 2ms/step - loss: 0.8442 - accuracy: 0.7499 - val_loss: 0.8371 - val_accuracy: 0.7599\n",
      "Epoch 18/100\n",
      "50899/50899 [==============================] - 111s 2ms/step - loss: 0.8443 - accuracy: 0.7495 - val_loss: 0.8367 - val_accuracy: 0.7599\n",
      "Epoch 19/100\n",
      "50899/50899 [==============================] - 109s 2ms/step - loss: 0.8443 - accuracy: 0.7477 - val_loss: 0.8384 - val_accuracy: 0.7599\n",
      "Epoch 20/100\n",
      "50899/50899 [==============================] - 108s 2ms/step - loss: 0.8443 - accuracy: 0.7499 - val_loss: 0.8374 - val_accuracy: 0.7599\n",
      "Epoch 21/100\n",
      "50899/50899 [==============================] - 101s 2ms/step - loss: 0.8443 - accuracy: 0.7501 - val_loss: 0.8370 - val_accuracy: 0.7599\n",
      "Epoch 22/100\n",
      "50899/50899 [==============================] - 118s 2ms/step - loss: 0.8442 - accuracy: 0.7487 - val_loss: 0.8425 - val_accuracy: 0.7599\n",
      "Epoch 23/100\n",
      "50899/50899 [==============================] - 105s 2ms/step - loss: 0.8443 - accuracy: 0.7490 - val_loss: 0.8407 - val_accuracy: 0.7599\n",
      "Epoch 24/100\n",
      "50899/50899 [==============================] - 87s 2ms/step - loss: 0.8443 - accuracy: 0.7500 - val_loss: 0.8382 - val_accuracy: 0.7599\n",
      "Epoch 24: early stopping\n"
     ]
    },
    {
     "data": {
      "text/plain": [
       "<keras.callbacks.History at 0x1de0da0fa90>"
      ]
     },
     "execution_count": 60,
     "metadata": {},
     "output_type": "execute_result"
    }
   ],
   "source": [
    "history = History()\n",
    "model = Sequential()\n",
    "model.add(Dense(180, activation='ELU'))\n",
    "model.add(Dropout(0.4))\n",
    "model.add(Dense(20, activation='ELU'))\n",
    "model.add(Dropout(0.4))\n",
    "model.add(Dense(2, activation='ELU'))\n",
    "model.compile(loss='mean_squared_error', optimizer='adam', metrics=[\"accuracy\"])\n",
    "early_stopping = EarlyStopping(monitor='val_loss', patience=10, mode='min', verbose=1)\n",
    "model.fit(X_train, y_train, validation_data=[X_valid, y_valid], epochs=100, batch_size=15, callbacks=[history, early_stopping])"
   ]
  },
  {
   "cell_type": "code",
   "execution_count": null,
   "metadata": {},
   "outputs": [
    {
     "name": "stdout",
     "output_type": "stream",
     "text": [
      "2721/2721 [==============================] - 4s 1ms/step - loss: 0.8723 - accuracy: 0.7520\n"
     ]
    },
    {
     "data": {
      "text/plain": [
       "[0.8723264932632446, 0.7520155906677246]"
      ]
     },
     "execution_count": 61,
     "metadata": {},
     "output_type": "execute_result"
    }
   ],
   "source": [
    "model.evaluate(X_test, y_test)"
   ]
  },
  {
   "cell_type": "code",
   "execution_count": null,
   "metadata": {},
   "outputs": [
    {
     "data": {
      "text/plain": [
       "array([[0.7689818 , 0.57918173],\n",
       "       [0.7689818 , 0.57918173],\n",
       "       [0.7689818 , 0.57918173],\n",
       "       ...,\n",
       "       [0.7689818 , 0.57918173],\n",
       "       [0.7689818 , 0.57918173],\n",
       "       [0.7689818 , 0.57918173]], dtype=float32)"
      ]
     },
     "execution_count": 66,
     "metadata": {},
     "output_type": "execute_result"
    }
   ],
   "source": [
    "model.predict(X_test.loc[X_test.time == 1])\n",
    "model.predict(X_test.loc[X_test.time == 90])"
   ]
  },
  {
   "cell_type": "code",
   "execution_count": null,
   "metadata": {},
   "outputs": [
    {
     "name": "stderr",
     "output_type": "stream",
     "text": [
      "WARNING:absl:Found untraced functions such as elu_37_layer_call_fn, elu_37_layer_call_and_return_conditional_losses, elu_38_layer_call_fn, elu_38_layer_call_and_return_conditional_losses, elu_39_layer_call_fn while saving (showing 5 of 6). These functions will not be directly callable after loading.\n"
     ]
    },
    {
     "name": "stdout",
     "output_type": "stream",
     "text": [
      "INFO:tensorflow:Assets written to: ram://f9d7d979-28bb-49cc-8af8-97dc28c643d1/assets\n"
     ]
    },
    {
     "name": "stderr",
     "output_type": "stream",
     "text": [
      "INFO:tensorflow:Assets written to: ram://f9d7d979-28bb-49cc-8af8-97dc28c643d1/assets\n"
     ]
    }
   ],
   "source": [
    "import os\n",
    "import dill\n",
    "if not os.path.exists('model.ipynb.1.db'):\n",
    "    dill.dump_session('model.ipynb.1.db')\n",
    "dump_checkpoint=1"
   ]
  }
 ],
 "metadata": {
  "kernelspec": {
   "display_name": "Python 3.9.13 64-bit (windows store)",
   "language": "python",
   "name": "python3"
  },
  "language_info": {
   "codemirror_mode": {
    "name": "ipython",
    "version": 3
   },
   "file_extension": ".py",
   "mimetype": "text/x-python",
   "name": "python",
   "nbconvert_exporter": "python",
   "pygments_lexer": "ipython3",
   "version": "3.9.13"
  },
  "orig_nbformat": 4,
  "vscode": {
   "interpreter": {
    "hash": "279df5a31cccb651a62a2e4f252ea0f040e28f64a72e1a79258135cec6af11e9"
   }
  }
 },
 "nbformat": 4,
 "nbformat_minor": 2
}
